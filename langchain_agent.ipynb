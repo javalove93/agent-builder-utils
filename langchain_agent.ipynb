{
  "cells": [
    {
      "cell_type": "code",
      "execution_count": 1,
      "metadata": {
        "id": "Nmo3BVFtE2gC"
      },
      "outputs": [],
      "source": [
        "from google.colab import userdata\n",
        "import os\n",
        "from langchain_google_genai import ChatGoogleGenerativeAI\n",
        "from langchain_google_genai import GoogleGenerativeAI\n",
        "from langchain_openai import OpenAI\n",
        "from langchain_openai import ChatOpenAI\n",
        "import json\n",
        "\n",
        "api_key = userdata.get('openai-key')\n",
        "os.environ['API_KEY'] = api_key\n",
        "API_KEY = api_key\n",
        "\n",
        "llm = ChatOpenAI(openai_api_key=API_KEY)\n",
        "\n",
        "GOOGLE_API_KEY = userdata.get('jerry-argolis-api-key')\n",
        "os.environ[\"GOOGLE_API_KEY\"] = GOOGLE_API_KEY\n",
        "\n",
        "# setup the gemini pro\n",
        "gemini_llm = ChatGoogleGenerativeAI(model=\"gemini-1.5-flash\")\n",
        "\n",
        "def print_message(aiMessage, messageOnly=True):\n",
        "    print(\"RESPONSE: {}\".format(aiMessage.content))\n",
        "    if messageOnly == False:\n",
        "        print(json.dumps(aiMessage.additional_kwargs, indent=2))\n",
        "        print(json.dumps(aiMessage.response_metadata, indent=2))\n",
        "        print(json.dumps(aiMessage.usage_metadata, indent=2))\n"
      ]
    },
    {
      "cell_type": "code",
      "execution_count": 4,
      "metadata": {
        "id": "lFsBhW5IKVOA"
      },
      "outputs": [],
      "source": [
        "from langchain.agents import tool\n",
        "from langchain.agents import initialize_agent, Tool\n",
        "from langchain.agents import AgentType\n",
        "from langchain.schema import SystemMessage\n",
        "from langchain.globals import set_debug\n",
        "set_debug(False)"
      ]
    },
    {
      "cell_type": "code",
      "execution_count": 62,
      "metadata": {
        "id": "jBd1pSdyMAP_"
      },
      "outputs": [],
      "source": [
        "import requests\n",
        "from requests.auth import HTTPBasicAuth\n",
        "\n",
        "def google_map(activity: str, city: str = \"부산\") -> dict:\n",
        "    url = f\"http://34.64.181.15:8991/google_map\"\n",
        "    headers = {\n",
        "        \"Authentication\": \"application/json\"\n",
        "    }\n",
        "    result = response = requests.get(url, params={\"activity\": activity, \"city\": city}, auth=HTTPBasicAuth(\"xxxxxxxx\", \"xxxxxxxx\")).json()\n",
        "    return result\n",
        "\n",
        "google_map_tool = Tool(\n",
        "    name=\"google_map\",\n",
        "    func=google_map,\n",
        "    description=\"Get accommodations based on city(city and area) and activity(type)\",\n",
        ")\n",
        "\n",
        "tools = [\n",
        "    google_map_tool,\n",
        "]\n",
        "\n",
        "def _handle_error(error) -> str:\n",
        "    print(\"Error :\", error)\n",
        "    return str(error)"
      ]
    },
    {
      "cell_type": "code",
      "execution_count": 68,
      "metadata": {
        "colab": {
          "base_uri": "https://localhost:8080/"
        },
        "id": "6Li_c8HrNse_",
        "outputId": "43fe537d-36dc-42c4-a413-019efc65e318"
      },
      "outputs": [
        {
          "name": "stdout",
          "output_type": "stream",
          "text": [
            "\n",
            "\n",
            "\u001b[1m> Entering new AgentExecutor chain...\u001b[0m\n",
            "\u001b[32;1m\u001b[1;3mThought: I need to find hotels in Haeundae, Busan.\n",
            "Action: google_map\n",
            "Action Input: {'activity': 'hotel', 'city': '부산', 'area': 'Haeundae'}\u001b[0m\n",
            "Observation: \u001b[36;1m\u001b[1;3m[{'name': '시티호텔', 'address': '대한민국 부산광역시 동구 중앙대로 294', 'rating': 4.4}, {'name': '부산시티호텔', 'address': '대한민국 부산광역시 연제구 신촌로 19', 'rating': 4.4}, {'name': '한화리조트 해운대', 'address': '대한민국 부산광역시 해운대구 마린시티3로 52', 'rating': 4.2}, {'name': '파크 하얏트 부산', 'address': '대한민국 부산광역시 해운대구 마린시티1로 51', 'rating': 4.6}, {'name': '신라스테이 해운대', 'address': '대한민국 부산광역시 해운대구 해운대로570번길 46', 'rating': 4.2}, {'name': '베스트인시티호텔 부산', 'address': '대한민국 부산광역시 동구 고관로 7', 'rating': 3.9}, {'name': '아르반시티호텔', 'address': '대한민국 부산광역시 연제구 반송로 20', 'rating': 4.1}, {'name': '해운대센텀호텔', 'address': '대한민국 부산광역시 해운대구 센텀3로 20', 'rating': 4}, {'name': '호텔 아벤트리 부산', 'address': '대한민국 부산광역시 중구 광복로39번길 6', 'rating': 4.3}, {'name': 'Urbanstay Busan City hall 어반스테이 부산 시청', 'address': '대한민국 부산광역시 연제구 중앙대로 1116-8 어반스테이 더 시티', 'rating': 4.1}, {'name': '하운드호텔 부산역', 'address': '대한민국 부산광역시 동구 중앙대로236번길 9', 'rating': 4.4}, {'name': 'The Westin Josun Busan', 'address': '대한민국 부산광역시 67 동백로 Haeundae', 'rating': 4.4}, {'name': '이비스 앰배서더 부산 시티센터', 'address': '대한민국 부산광역시 부산진구 중앙대로 777', 'rating': 4}, {'name': '아스티호텔 부산', 'address': '대한민국 부산광역시 동구 중앙대로214번길 7-8', 'rating': 4.4}, {'name': '베스트 웨스턴 해운대', 'address': '대한민국 부산광역시 해운대구 구남로 42', 'rating': 4}, {'name': '엘시티 레지던스', 'address': '대한민국 부산광역시 해운대구 중동 해운대로774번길 30', 'rating': 4.4}, {'name': '부산도시공사 아르피나', 'address': '대한민국 부산광역시 해운대구 해운대해변로 35', 'rating': 4}, {'name': '파라다이스 호텔 부산', 'address': '대한민국 부산광역시 해운대구 해운대해변로 296', 'rating': 4.5}, {'name': '호텔아델라', 'address': '대한민국 부산광역시 영도구 태종로 45', 'rating': 4.2}, {'name': '인더스트리호텔', 'address': '대한민국 부산광역시 해운대구 우동 구남로24번길 16', 'rating': 4.2}]\u001b[0m\n",
            "Thought:\u001b[32;1m\u001b[1;3mThought: I now know the final answer.\n",
            "Final Answer: Here are 5 hotels in Haeundae, Busan with their ratings:\n",
            "1. 파크 하얏트 부산 (rating: 4.6)\n",
            "2. 한화리조트 해운대 (rating: 4.2)\n",
            "3. 신라스테이 해운대 (rating: 4.2)\n",
            "4. 엘시티 레지던스 (rating: 4.4)\n",
            "5. 파라다이스 호텔 부산 (rating: 4.5) \n",
            "\u001b[0m\n",
            "\n",
            "\u001b[1m> Finished chain.\u001b[0m\n",
            "정답은: Here are 5 hotels in Haeundae, Busan with their ratings:\n",
            "1. 파크 하얏트 부산 (rating: 4.6)\n",
            "2. 한화리조트 해운대 (rating: 4.2)\n",
            "3. 신라스테이 해운대 (rating: 4.2)\n",
            "4. 엘시티 레지던스 (rating: 4.4)\n",
            "5. 파라다이스 호텔 부산 (rating: 4.5)\n"
          ]
        }
      ],
      "source": [
        "from langchain.agents import tool\n",
        "from langchain.agents import initialize_agent, Tool\n",
        "from langchain.agents import AgentType\n",
        "from langchain.schema import SystemMessage\n",
        "from langchain.globals import set_debug\n",
        "set_debug(False)\n",
        "\n",
        "llm = ChatGoogleGenerativeAI(model=\"gemini-1.5-flash\")\n",
        "# llm = ChatOpenAI(openai_api_key=API_KEY, model=\"gpt-4o\")\n",
        "\n",
        "agent = initialize_agent(\n",
        "    tools=tools,\n",
        "    llm=llm,\n",
        "    max_iterations=3,\n",
        "    # agent=AgentType.SELF_ASK_WITH_SEARCH,\n",
        "    handle_parsing_errors=_handle_error,\n",
        "    verbose=True,\n",
        ")\n",
        "\n",
        "r = agent.run(\n",
        "    \"\"\"\n",
        "    Please find 5 hotels in Haeundae, Busan and give me the name, rating of the hotel\n",
        "    \"\"\"\n",
        ")\n",
        "print(\"정답은: {}\".format(r))"
      ]
    }
  ],
  "metadata": {
    "colab": {
      "provenance": []
    },
    "kernelspec": {
      "display_name": "Python 3",
      "name": "python3"
    },
    "language_info": {
      "name": "python"
    }
  },
  "nbformat": 4,
  "nbformat_minor": 0
}
